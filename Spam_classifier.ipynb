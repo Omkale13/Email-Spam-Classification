{
  "nbformat": 4,
  "nbformat_minor": 0,
  "metadata": {
    "colab": {
      "provenance": [],
      "gpuType": "T4",
      "include_colab_link": true
    },
    "kernelspec": {
      "name": "python3",
      "display_name": "Python 3"
    },
    "language_info": {
      "name": "python"
    },
    "accelerator": "GPU"
  },
  "cells": [
    {
      "cell_type": "markdown",
      "metadata": {
        "id": "view-in-github",
        "colab_type": "text"
      },
      "source": [
        "<a href=\"https://colab.research.google.com/github/Omkale13/Email-Spam-Classification/blob/main/Spam_classifier.ipynb\" target=\"_parent\"><img src=\"https://colab.research.google.com/assets/colab-badge.svg\" alt=\"Open In Colab\"/></a>"
      ]
    },
    {
      "cell_type": "code",
      "execution_count": 1,
      "metadata": {
        "colab": {
          "base_uri": "https://localhost:8080/"
        },
        "id": "be00Ykht-X62",
        "outputId": "db5a3ffb-8f32-4a71-b8a9-b0a699ead0ac"
      },
      "outputs": [
        {
          "output_type": "stream",
          "name": "stderr",
          "text": [
            "/usr/local/lib/python3.10/dist-packages/keras/src/layers/core/dense.py:87: UserWarning: Do not pass an `input_shape`/`input_dim` argument to a layer. When using Sequential models, prefer using an `Input(shape)` object as the first layer in the model instead.\n",
            "  super().__init__(activity_regularizer=activity_regularizer, **kwargs)\n"
          ]
        },
        {
          "output_type": "stream",
          "name": "stdout",
          "text": [
            "Epoch 1/10\n",
            "\u001b[1m60/60\u001b[0m \u001b[32m━━━━━━━━━━━━━━━━━━━━\u001b[0m\u001b[37m\u001b[0m \u001b[1m49s\u001b[0m 786ms/step - accuracy: 0.8864 - loss: 0.3995 - val_accuracy: 0.9937 - val_loss: 0.0511\n",
            "Epoch 2/10\n",
            "\u001b[1m60/60\u001b[0m \u001b[32m━━━━━━━━━━━━━━━━━━━━\u001b[0m\u001b[37m\u001b[0m \u001b[1m75s\u001b[0m 680ms/step - accuracy: 0.9924 - loss: 0.0568 - val_accuracy: 0.9958 - val_loss: 0.0286\n",
            "Epoch 3/10\n",
            "\u001b[1m60/60\u001b[0m \u001b[32m━━━━━━━━━━━━━━━━━━━━\u001b[0m\u001b[37m\u001b[0m \u001b[1m80s\u001b[0m 644ms/step - accuracy: 0.9965 - loss: 0.0186 - val_accuracy: 0.9958 - val_loss: 0.0164\n",
            "Epoch 4/10\n",
            "\u001b[1m60/60\u001b[0m \u001b[32m━━━━━━━━━━━━━━━━━━━━\u001b[0m\u001b[37m\u001b[0m \u001b[1m40s\u001b[0m 627ms/step - accuracy: 0.9953 - loss: 0.0109 - val_accuracy: 0.9979 - val_loss: 0.0110\n",
            "Epoch 5/10\n",
            "\u001b[1m60/60\u001b[0m \u001b[32m━━━━━━━━━━━━━━━━━━━━\u001b[0m\u001b[37m\u001b[0m \u001b[1m37s\u001b[0m 565ms/step - accuracy: 0.9984 - loss: 0.0047 - val_accuracy: 0.9979 - val_loss: 0.0087\n",
            "Epoch 6/10\n",
            "\u001b[1m60/60\u001b[0m \u001b[32m━━━━━━━━━━━━━━━━━━━━\u001b[0m\u001b[37m\u001b[0m \u001b[1m44s\u001b[0m 617ms/step - accuracy: 0.9983 - loss: 0.0034 - val_accuracy: 0.9958 - val_loss: 0.0077\n",
            "Epoch 7/10\n",
            "\u001b[1m60/60\u001b[0m \u001b[32m━━━━━━━━━━━━━━━━━━━━\u001b[0m\u001b[37m\u001b[0m \u001b[1m33s\u001b[0m 552ms/step - accuracy: 0.9974 - loss: 0.0031 - val_accuracy: 0.9958 - val_loss: 0.0072\n",
            "Epoch 8/10\n",
            "\u001b[1m60/60\u001b[0m \u001b[32m━━━━━━━━━━━━━━━━━━━━\u001b[0m\u001b[37m\u001b[0m \u001b[1m44s\u001b[0m 601ms/step - accuracy: 0.9987 - loss: 0.0018 - val_accuracy: 0.9958 - val_loss: 0.0073\n",
            "Epoch 9/10\n",
            "\u001b[1m60/60\u001b[0m \u001b[32m━━━━━━━━━━━━━━━━━━━━\u001b[0m\u001b[37m\u001b[0m \u001b[1m41s\u001b[0m 602ms/step - accuracy: 0.9993 - loss: 0.0012 - val_accuracy: 0.9979 - val_loss: 0.0073\n",
            "Epoch 10/10\n",
            "\u001b[1m60/60\u001b[0m \u001b[32m━━━━━━━━━━━━━━━━━━━━\u001b[0m\u001b[37m\u001b[0m \u001b[1m39s\u001b[0m 562ms/step - accuracy: 1.0000 - loss: 0.0010 - val_accuracy: 0.9979 - val_loss: 0.0078\n",
            "\u001b[1m19/19\u001b[0m \u001b[32m━━━━━━━━━━━━━━━━━━━━\u001b[0m\u001b[37m\u001b[0m \u001b[1m7s\u001b[0m 349ms/step - accuracy: 0.9844 - loss: 1.8808\n",
            "Accuracy: 98.67\n"
          ]
        }
      ],
      "source": [
        "import pandas as pd\n",
        "import numpy as np\n",
        "from sklearn.model_selection import train_test_split\n",
        "from sklearn.feature_extraction.text import CountVectorizer\n",
        "from sklearn.preprocessing import LabelEncoder\n",
        "from sklearn.metrics import accuracy_score\n",
        "from tensorflow.keras.models import Sequential\n",
        "from tensorflow.keras.layers import Dense\n",
        "import tensorflow as tf\n",
        "\n",
        "data = pd.read_csv(\"spam_or_not_spam.csv\")\n",
        "\n",
        "data = data.fillna(\"\")\n",
        "\n",
        "X = data['email']\n",
        "y = data['label']\n",
        "\n",
        "X_train, X_test, y_train, y_test = train_test_split(X, y, test_size=0.2, random_state=42)\n",
        "\n",
        "vectorizer = CountVectorizer()\n",
        "X_train = vectorizer.fit_transform(X_train)\n",
        "X_test = vectorizer.transform(X_test)\n",
        "\n",
        "X_train.sort_indices()\n",
        "X_test.sort_indices()\n",
        "\n",
        "label_encoder = LabelEncoder()\n",
        "y_train = label_encoder.fit_transform(y_train)\n",
        "y_test = label_encoder.transform(y_test)\n",
        "\n",
        "X_train, X_val, y_train, y_val = train_test_split(X_train, y_train, test_size=0.2, random_state=42)\n",
        "\n",
        "model = Sequential([\n",
        "    Dense(64, activation='relu', input_shape=(X_train.shape[1],)),\n",
        "    Dense(32, activation='relu'),\n",
        "    Dense(1, activation='sigmoid')\n",
        "])\n",
        "\n",
        "model.compile(optimizer='adam', loss='binary_crossentropy', metrics=['accuracy'])\n",
        "\n",
        "model.fit(X_train, y_train, epochs=10, batch_size=32, validation_data=(X_val, y_val))\n",
        "\n",
        "_, accuracy = model.evaluate(X_test, y_test)\n",
        "print('Accuracy: %.2f' % (accuracy*100))\n"
      ]
    },
    {
      "cell_type": "code",
      "source": [
        "import pandas as pd\n",
        "from sklearn.feature_extraction.text import CountVectorizer\n",
        "\n",
        "new_data = pd.read_csv(\"/content/spam_or_not_spam.csv\")\n",
        "\n",
        "new_data = new_data.fillna(\"\")\n",
        "\n",
        "X_new = vectorizer.transform(new_data['email'])\n",
        "\n",
        "X_new.sort_indices()\n",
        "\n",
        "predictions = model.predict(X_new)\n",
        "\n",
        "predicted_labels = (predictions > 0.5).astype(int)\n",
        "predicted_labels = ['spam' if label == 1 else 'not spam' for label in predicted_labels]\n",
        "\n",
        "new_data['predicted_label'] = predicted_labels\n",
        "\n",
        "print(new_data[['email', 'predicted_label']])\n"
      ],
      "metadata": {
        "colab": {
          "base_uri": "https://localhost:8080/"
        },
        "id": "gtvBrF-X_CDG",
        "outputId": "f9a9f242-6ca0-4b0a-bd3f-3a09c6f41306"
      },
      "execution_count": 2,
      "outputs": [
        {
          "output_type": "stream",
          "name": "stdout",
          "text": [
            "\u001b[1m94/94\u001b[0m \u001b[32m━━━━━━━━━━━━━━━━━━━━\u001b[0m\u001b[37m\u001b[0m \u001b[1m15s\u001b[0m 159ms/step\n",
            "                                                  email predicted_label\n",
            "0      date wed NUMBER aug NUMBER NUMBER NUMBER NUMB...        not spam\n",
            "1     martin a posted tassos papadopoulos the greek ...        not spam\n",
            "2     man threatens explosion in moscow thursday aug...        not spam\n",
            "3     klez the virus that won t die already the most...        not spam\n",
            "4      in adding cream to spaghetti carbonara which ...        not spam\n",
            "...                                                 ...             ...\n",
            "2995   abc s good morning america ranks it the NUMBE...            spam\n",
            "2996   hyperlink hyperlink hyperlink let mortgage le...            spam\n",
            "2997   thank you for shopping with us gifts for all ...            spam\n",
            "2998   the famous ebay marketing e course learn to s...            spam\n",
            "2999   hello this is chinese traditional 子 件 NUMBER世...            spam\n",
            "\n",
            "[3000 rows x 2 columns]\n"
          ]
        }
      ]
    },
    {
      "cell_type": "code",
      "source": [
        "import matplotlib.pyplot as plt\n",
        "\n",
        "# Get the counts of each label\n",
        "spam_count = len([label for label in predicted_labels if label == 'spam'])\n",
        "not_spam_count = len([label for label in predicted_labels if label == 'not spam'])\n",
        "\n",
        "#pie chart\n",
        "plt.pie([spam_count, not_spam_count], labels=['Spam', 'Not Spam'], autopct='%1.1f%%')\n",
        "plt.title('Email Spam Detection')\n",
        "plt.show()"
      ],
      "metadata": {
        "colab": {
          "base_uri": "https://localhost:8080/",
          "height": 428
        },
        "id": "pw7Xl3q-Ag2t",
        "outputId": "07bc143c-10b6-4f30-964a-b3ebed931b51"
      },
      "execution_count": 3,
      "outputs": [
        {
          "output_type": "display_data",
          "data": {
            "text/plain": [
              "<Figure size 640x480 with 1 Axes>"
            ],
            "image/png": "[encoded data removed]"
          },
          "metadata": {}
        }
      ]
    },
    {
      "cell_type": "code",
      "source": [],
      "metadata": {
        "id": "1vL3lhheYZq7"
      },
      "execution_count": 3,
      "outputs": []
    }
  ]
}